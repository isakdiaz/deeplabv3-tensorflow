{
  "nbformat": 4,
  "nbformat_minor": 0,
  "metadata": {
    "colab": {
      "name": "treeseg_coreml.ipynb",
      "provenance": [],
      "authorship_tag": "ABX9TyOJznIFhcu2qCbSI/EE/CYN",
      "include_colab_link": true
    },
    "kernelspec": {
      "name": "python3",
      "display_name": "Python 3"
    },
    "language_info": {
      "name": "python"
    }
  },
  "cells": [
    {
      "cell_type": "markdown",
      "metadata": {
        "id": "view-in-github",
        "colab_type": "text"
      },
      "source": [
        "<a href=\"https://colab.research.google.com/github/isakdiaz/deeplabv3-tree-segmentation/blob/master/treeseg_coreml.ipynb\" target=\"_parent\"><img src=\"https://colab.research.google.com/assets/colab-badge.svg\" alt=\"Open In Colab\"/></a>"
      ]
    },
    {
      "cell_type": "markdown",
      "metadata": {
        "id": "yuWqzi58oPZU"
      },
      "source": [
        "# CoreML Conversion from Tensorflow Model"
      ]
    },
    {
      "cell_type": "code",
      "metadata": {
        "id": "0cnpWQoIQ3uW"
      },
      "source": [
        "%tensorflow_version 2.x\n",
        "import tensorflow as tf\n",
        "from tensorflow import keras\n",
        "from tensorflow.keras import layers\n",
        "import numpy as np\n",
        "import pandas as pd\n",
        "import matplotlib.pyplot as plt\n",
        "\n",
        "import pprint\n",
        "import json\n",
        "from sklearn.preprocessing import StandardScaler\n",
        "from sklearn.metrics import r2_score\n",
        "import json\n",
        "\n",
        "import tensorflow_datasets as tfds\n",
        "\n",
        "from tensorflow.keras.preprocessing.image import ImageDataGenerator\n",
        "\n",
        "from tensorflow.keras.layers import Dense, GlobalAveragePooling2D\n",
        "from tensorflow.keras.layers.experimental.preprocessing import Resizing\n",
        "from tensorflow.keras.models import Model\n",
        "from tensorflow.keras.applications.mobilenet_v2 import preprocess_input\n",
        "from tensorflow.keras.preprocessing import image\n",
        "\n",
        "from tensorflow.keras.callbacks import ModelCheckpoint\n"
      ],
      "execution_count": 9,
      "outputs": []
    },
    {
      "cell_type": "code",
      "metadata": {
        "colab": {
          "base_uri": "https://localhost:8080/"
        },
        "id": "7GrvjvOUBDYY",
        "outputId": "901c2ce3-09a7-4eba-ea18-4e08e2b026cb"
      },
      "source": [
        "print(tf.__version__)\n",
        "print(np.__version__)"
      ],
      "execution_count": 4,
      "outputs": [
        {
          "output_type": "stream",
          "text": [
            "2.6.0\n",
            "1.19.5\n"
          ],
          "name": "stdout"
        }
      ]
    },
    {
      "cell_type": "markdown",
      "metadata": {
        "id": "z7KpDm6dQZMs"
      },
      "source": [
        "## Load Cloud Drive"
      ]
    },
    {
      "cell_type": "code",
      "metadata": {
        "colab": {
          "base_uri": "https://localhost:8080/"
        },
        "id": "D62UafuKB5N7",
        "outputId": "1e4dd569-fa7d-4884-a48e-0d0fd1904b0d"
      },
      "source": [
        "from google.colab import drive\n",
        "drive.mount('/content/drive')"
      ],
      "execution_count": 5,
      "outputs": [
        {
          "output_type": "stream",
          "text": [
            "Mounted at /content/drive\n"
          ],
          "name": "stdout"
        }
      ]
    },
    {
      "cell_type": "markdown",
      "metadata": {
        "id": "fXZUk33Vpvug"
      },
      "source": [
        "## Install CoreML Tools\n",
        "### Requires Python 3.5 +"
      ]
    },
    {
      "cell_type": "code",
      "metadata": {
        "id": "0mzwPPEopvfX"
      },
      "source": [
        "!pip install coremltools"
      ],
      "execution_count": null,
      "outputs": []
    },
    {
      "cell_type": "code",
      "metadata": {
        "id": "rr_hFFA4qvvI",
        "colab": {
          "base_uri": "https://localhost:8080/"
        },
        "outputId": "38385ee4-807b-4175-b194-f1bf694d0982"
      },
      "source": [
        "import coremltools as ct"
      ],
      "execution_count": 7,
      "outputs": [
        {
          "output_type": "stream",
          "text": [
            "WARNING:root:scikit-learn version 0.22.2.post1 is not supported. Minimum required version: 0.17. Maximum required version: 0.19.2. Disabling scikit-learn conversion API.\n",
            "WARNING:root:TensorFlow version 2.6.0 detected. Last version known to be fully compatible is 2.3.1 .\n",
            "WARNING:root:Keras version 2.6.0 detected. Last version known to be fully compatible of Keras is 2.2.4 .\n"
          ],
          "name": "stderr"
        }
      ]
    },
    {
      "cell_type": "code",
      "metadata": {
        "colab": {
          "base_uri": "https://localhost:8080/"
        },
        "id": "J-ASZooQqXS8",
        "outputId": "92dc71b5-fe02-4c7b-a641-4fba95025e9b"
      },
      "source": [
        "!ls /content/drive/MyDrive/"
      ],
      "execution_count": 8,
      "outputs": [
        {
          "output_type": "stream",
          "text": [
            " Biome_Videos\t   'Interview Docs'\t saved_models\n",
            " Citizenships\t    OakBark01_1024.png\t TreeGenerator.zip\n",
            "'Colab Notebooks'   OakBark01.afphoto\t treeseg_coreml.ipynb\n",
            " CoreML\t\t    plantnet\n"
          ],
          "name": "stdout"
        }
      ]
    },
    {
      "cell_type": "markdown",
      "metadata": {
        "id": "FRLMRzjKQe8z"
      },
      "source": [
        "# Load Model File\n"
      ]
    },
    {
      "cell_type": "code",
      "metadata": {
        "colab": {
          "base_uri": "https://localhost:8080/"
        },
        "id": "SLBCWq0t1K6B",
        "outputId": "4ee86ecd-6a6b-4956-8ffb-5580b5e1694d"
      },
      "source": [
        "# Check if a model exists\n",
        "!ls -all -h /content/drive/MyDrive/saved_models/treeseg"
      ],
      "execution_count": 15,
      "outputs": [
        {
          "output_type": "stream",
          "text": [
            "total 206M\n",
            "-rw------- 1 root root 206M Aug 29 16:09 treeseg2021-08-29.h5\n"
          ],
          "name": "stdout"
        }
      ]
    },
    {
      "cell_type": "markdown",
      "metadata": {
        "id": "Z5aLJeatrXcr"
      },
      "source": [
        "## Load custom loss functions"
      ]
    },
    {
      "cell_type": "code",
      "metadata": {
        "id": "sn_Okg7GrbCh"
      },
      "source": [
        "import numpy as np\n",
        "import tensorflow as tf\n",
        "from tensorflow.keras import backend as K\n",
        "from tensorflow.keras.utils import CustomObjectScope\n",
        "from sklearn.metrics import accuracy_score, f1_score, jaccard_score, precision_score, recall_score\n",
        "from tqdm import tqdm\n",
        "\n",
        "def iou(y_true, y_pred):\n",
        "    def f(y_true, y_pred):\n",
        "        intersection = (y_true * y_pred).sum()\n",
        "        union = y_true.sum() + y_pred.sum() - intersection\n",
        "        x = (intersection + 1e-15) / (union + 1e-15)\n",
        "        x = x.astype(np.float32)\n",
        "        return x\n",
        "    return tf.numpy_function(f, [y_true, y_pred], tf.float32)\n",
        "\n",
        "smooth = 1e-15\n",
        "def dice_coef(y_true, y_pred):\n",
        "    y_true = tf.keras.layers.Flatten()(y_true)\n",
        "    y_pred = tf.keras.layers.Flatten()(y_pred)\n",
        "    intersection = tf.reduce_sum(y_true * y_pred)\n",
        "    return (2. * intersection + smooth) / (tf.reduce_sum(y_true) + tf.reduce_sum(y_pred) + smooth)\n",
        "\n",
        "def dice_loss(y_true, y_pred):\n",
        "    return 1.0 - dice_coef(y_true, y_pred)"
      ],
      "execution_count": 21,
      "outputs": []
    },
    {
      "cell_type": "markdown",
      "metadata": {
        "id": "eonD8uJRrt7h"
      },
      "source": [
        "# Load Model"
      ]
    },
    {
      "cell_type": "code",
      "metadata": {
        "id": "A_zQ7ynto5ZF"
      },
      "source": [
        "model_file = \"/content/drive/MyDrive/saved_models/treeseg/treeseg2021-08-29.h5\"\n",
        "with CustomObjectScope({'iou': iou, 'dice_coef': dice_coef, 'dice_loss': dice_loss}):\n",
        "  model = tf.keras.models.load_model(model_file)"
      ],
      "execution_count": 22,
      "outputs": []
    },
    {
      "cell_type": "code",
      "metadata": {
        "id": "nNJtaYh1u3v2"
      },
      "source": [
        "model.summary()"
      ],
      "execution_count": null,
      "outputs": []
    },
    {
      "cell_type": "markdown",
      "metadata": {
        "id": "-4GgUXrt1Xqf"
      },
      "source": [
        "# Convert Keras model to CoreML Model\n"
      ]
    },
    {
      "cell_type": "code",
      "metadata": {
        "colab": {
          "base_uri": "https://localhost:8080/"
        },
        "id": "XDg9OBaYqRMd",
        "outputId": "37e84e65-c480-4758-f8c3-4cffa8a1ca4c"
      },
      "source": [
        "# image_input = ct.ImageType(color_layout=\"RGB\", scale=1/127.0, bias=[-1,-1,-1])\n",
        "image_input = ct.ImageType(color_layout=\"RGB\", scale=1/255.0, bias=[0,0,0])\n",
        "# classifier_config = ct.ClassifierConfig(labels)\n",
        "\n",
        "# Set input as ImageType so CoreML can automatically resize it using Vision framework\n",
        "coreml_model = ct.convert(model, inputs=[image_input])"
      ],
      "execution_count": 30,
      "outputs": [
        {
          "output_type": "stream",
          "text": [
            "Running TensorFlow Graph Passes: 100%|██████████| 5/5 [00:01<00:00,  2.59 passes/s]\n",
            "Converting Frontend ==> MIL Ops: 100%|██████████| 659/659 [00:01<00:00, 374.23 ops/s]\n",
            "Running MIL optimization passes: 100%|██████████| 18/18 [00:01<00:00,  9.02 passes/s]\n",
            "Translating MIL ==> MLModel Ops: 100%|██████████| 969/969 [00:02<00:00, 337.09 ops/s]\n"
          ],
          "name": "stderr"
        }
      ]
    },
    {
      "cell_type": "code",
      "metadata": {
        "id": "--uqy4qVu_M_",
        "colab": {
          "base_uri": "https://localhost:8080/"
        },
        "outputId": "ade9148d-fcce-451e-8f27-3e0d22599146"
      },
      "source": [
        "# # Define Spec Function\n",
        "from coremltools.models.neural_network.builder import _get_nn_spec as get_nn\n",
        "\n",
        "## Get Spec and check preprocessing\n",
        "spec = coreml_model.get_spec()\n",
        "nn = get_nn(spec)\n",
        "print(nn.preprocessing)"
      ],
      "execution_count": 31,
      "outputs": [
        {
          "output_type": "stream",
          "text": [
            "[featureName: \"input_3\"\n",
            "scaler {\n",
            "  channelScale: 0.003921568859368563\n",
            "}\n",
            "]\n"
          ],
          "name": "stdout"
        }
      ]
    },
    {
      "cell_type": "markdown",
      "metadata": {
        "id": "v-s9ZjAK1oY4"
      },
      "source": [
        "## Save CoreML Model to Google Drive"
      ]
    },
    {
      "cell_type": "code",
      "metadata": {
        "colab": {
          "base_uri": "https://localhost:8080/"
        },
        "id": "1J-llQvsd_7M",
        "outputId": "543241ce-59a3-468e-bd26-94f9fd7c7bea"
      },
      "source": [
        "# !ls -all -hs \"$gdrive_dir\"\n",
        "model_name = model_file.split(\"/\")[-1]\n",
        "folder_name = gdrive_dir + \"/CoreML\"\n",
        "!mkdir -p {folder_name}\n",
        "coreml_file_path = \"{0}/{1}.mlmodel\".format(folder_name, model_name)\n",
        "coreml_model.save(coreml_file_path)\n",
        "print(\"Core ML model {} saved in {}\".format(model_name, folder_name))"
      ],
      "execution_count": 35,
      "outputs": [
        {
          "output_type": "stream",
          "text": [
            "Core ML model treeseg2021-08-29.h5 saved in /content/drive/MyDrive/CoreML\n"
          ],
          "name": "stdout"
        }
      ]
    },
    {
      "cell_type": "code",
      "metadata": {
        "colab": {
          "base_uri": "https://localhost:8080/"
        },
        "id": "4fMADFzMCTbw",
        "outputId": "62219e5a-670b-4c72-ac3d-56ef4959d102"
      },
      "source": [
        "coreMLModel.get_spec"
      ],
      "execution_count": null,
      "outputs": [
        {
          "output_type": "execute_result",
          "data": {
            "text/plain": [
              "<bound method MLModel.get_spec of input {\n",
              "  name: \"input_2\"\n",
              "  type {\n",
              "    imageType {\n",
              "      width: 224\n",
              "      height: 224\n",
              "      colorSpace: RGB\n",
              "      imageSizeRange {\n",
              "        widthRange {\n",
              "          lowerBound: 224\n",
              "          upperBound: 224\n",
              "        }\n",
              "        heightRange {\n",
              "          lowerBound: 224\n",
              "          upperBound: 224\n",
              "        }\n",
              "      }\n",
              "    }\n",
              "  }\n",
              "}\n",
              "output {\n",
              "  name: \"Identity\"\n",
              "  type {\n",
              "    multiArrayType {\n",
              "      dataType: FLOAT32\n",
              "    }\n",
              "  }\n",
              "}\n",
              "metadata {\n",
              "  userDefined {\n",
              "    key: \"com.github.apple.coremltools.source\"\n",
              "    value: \"tensorflow==2.5.0\"\n",
              "  }\n",
              "  userDefined {\n",
              "    key: \"com.github.apple.coremltools.version\"\n",
              "    value: \"4.1\"\n",
              "  }\n",
              "}\n",
              ">"
            ]
          },
          "metadata": {
            "tags": []
          },
          "execution_count": 33
        }
      ]
    }
  ]
}